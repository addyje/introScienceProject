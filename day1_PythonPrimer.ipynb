{
  "cells": [
    {
      "cell_type": "markdown",
      "source": [
        "# 🌟 Science with Python Primer 🌟"
      ],
      "metadata": {
        "id": "vhTkjhTOwW7G"
      },
      "id": "vhTkjhTOwW7G"
    },
    {
      "cell_type": "markdown",
      "id": "791d0654",
      "metadata": {
        "id": "791d0654"
      },
      "source": [
        "First things first, we need to import the appropriate packages. These packages are python modules with\n",
        "a plethora of useful functions in them that scientists use all the time, such as math functions like\n",
        "cosine and statistics functions like standard deviation. We will be using them throughout\n",
        "the week. I've shortened the package names for ease of use."
      ]
    },
    {
      "cell_type": "code",
      "execution_count": null,
      "id": "12d057b9",
      "metadata": {
        "id": "12d057b9"
      },
      "outputs": [],
      "source": [
        "import numpy as np # lots of useful math functions defined here\n",
        "import matplotlib.pyplot as plt # a package to make pretty plots with"
      ]
    },
    {
      "cell_type": "markdown",
      "id": "fbae6900",
      "metadata": {
        "id": "fbae6900"
      },
      "source": [
        "Now we're going to create our own \"fake\" data! We're going to consider it fake since the numbers are not from a measurement taken by a scientific instrument. Instead, we will be generating data using numpy functions."
      ]
    },
    {
      "cell_type": "code",
      "execution_count": null,
      "id": "a7dff418",
      "metadata": {
        "id": "a7dff418"
      },
      "outputs": [],
      "source": [
        "evenly_spaced_fake_data = np.linspace(0,10,50)"
      ]
    },
    {
      "cell_type": "code",
      "execution_count": null,
      "id": "72fe6f35",
      "metadata": {
        "id": "72fe6f35",
        "outputId": "21e74de1-b547-40df-d22e-0e5c2f835686"
      },
      "outputs": [
        {
          "name": "stdout",
          "output_type": "stream",
          "text": [
            "[ 0.          0.20408163  0.40816327  0.6122449   0.81632653  1.02040816\n",
            "  1.2244898   1.42857143  1.63265306  1.83673469  2.04081633  2.24489796\n",
            "  2.44897959  2.65306122  2.85714286  3.06122449  3.26530612  3.46938776\n",
            "  3.67346939  3.87755102  4.08163265  4.28571429  4.48979592  4.69387755\n",
            "  4.89795918  5.10204082  5.30612245  5.51020408  5.71428571  5.91836735\n",
            "  6.12244898  6.32653061  6.53061224  6.73469388  6.93877551  7.14285714\n",
            "  7.34693878  7.55102041  7.75510204  7.95918367  8.16326531  8.36734694\n",
            "  8.57142857  8.7755102   8.97959184  9.18367347  9.3877551   9.59183673\n",
            "  9.79591837 10.        ]\n"
          ]
        }
      ],
      "source": [
        "# take a look at your fake data with python's print function\n",
        "print(evenly_spaced_fake_data)"
      ]
    },
    {
      "cell_type": "markdown",
      "id": "09224be8",
      "metadata": {
        "id": "09224be8"
      },
      "source": [
        "Okay cool, so that's what our data looks like (above). However, most people don't really get a lot out of staring at a list of numbers. Let's try...**visualizing our data**! First, we'll make a histogram. A histogram is a way to see how often a number occurs."
      ]
    },
    {
      "cell_type": "code",
      "execution_count": null,
      "id": "8af4e6fb",
      "metadata": {
        "scrolled": true,
        "id": "8af4e6fb",
        "outputId": "e78cbaf0-3f2c-44ce-caab-36d1e7f2fd68"
      },
      "outputs": [
        {
          "data": {
            "text/plain": [
              "(array([1., 1., 1., 1., 1., 1., 1., 1., 1., 1., 1., 1., 1., 1., 1., 1., 1.,\n",
              "        1., 1., 1., 1., 1., 1., 1., 1., 1., 1., 1., 1., 1., 1., 1., 1., 1.,\n",
              "        1., 1., 1., 1., 1., 1., 1., 1., 1., 1., 1., 1., 1., 1., 1., 1.]),\n",
              " array([ 0. ,  0.2,  0.4,  0.6,  0.8,  1. ,  1.2,  1.4,  1.6,  1.8,  2. ,\n",
              "         2.2,  2.4,  2.6,  2.8,  3. ,  3.2,  3.4,  3.6,  3.8,  4. ,  4.2,\n",
              "         4.4,  4.6,  4.8,  5. ,  5.2,  5.4,  5.6,  5.8,  6. ,  6.2,  6.4,\n",
              "         6.6,  6.8,  7. ,  7.2,  7.4,  7.6,  7.8,  8. ,  8.2,  8.4,  8.6,\n",
              "         8.8,  9. ,  9.2,  9.4,  9.6,  9.8, 10. ]),\n",
              " <BarContainer object of 50 artists>)"
            ]
          },
          "execution_count": 17,
          "metadata": {},
          "output_type": "execute_result"
        },
        {
          "data": {
            "image/png": "[encoded data removed]",
            "text/plain": [
              "<Figure size 432x288 with 1 Axes>"
            ]
          },
          "metadata": {
            "needs_background": "light"
          },
          "output_type": "display_data"
        }
      ],
      "source": [
        "# another good way to visualize data is to look at a histogram\n",
        "plt.hist(evenly_spaced_fake_data, bins=50)"
      ]
    },
    {
      "cell_type": "markdown",
      "id": "cace22cf",
      "metadata": {
        "id": "cace22cf"
      },
      "source": [
        "Notice that we've chosen the number of bins to be equal to the number of data points that we have. You can see from the histogram that each number appears once. This is exactly what we would expect, so that's a good sign! We can do the same thing again with randomly picked numbers from a range, say from 0 to 10:"
      ]
    },
    {
      "cell_type": "code",
      "execution_count": null,
      "id": "a47b6ec3",
      "metadata": {
        "id": "a47b6ec3"
      },
      "outputs": [],
      "source": [
        "# I'm multiplying the array by 10 because np.random.rand actually only sameples from 0 to 1\n",
        "random_fake_data = np.random.rand(50) * 10"
      ]
    },
    {
      "cell_type": "markdown",
      "id": "ca2bb51e",
      "metadata": {
        "id": "ca2bb51e"
      },
      "source": [
        "This function samples from [0,1), so I'm multiplying it by 10 to make the values more similar to our last fake data array. Let's take a look at it with the hist function from matplotlib."
      ]
    },
    {
      "cell_type": "code",
      "execution_count": null,
      "id": "9b510ef8",
      "metadata": {
        "id": "9b510ef8",
        "outputId": "089a3845-1ae5-49ff-9fce-d81da628fa35"
      },
      "outputs": [
        {
          "data": {
            "text/plain": [
              "(array([1., 1., 1., 1., 1., 2., 1., 0., 1., 0., 0., 0., 1., 2., 2., 1., 0.,\n",
              "        1., 1., 1., 1., 2., 3., 0., 0., 2., 2., 1., 1., 1., 2., 0., 1., 2.,\n",
              "        0., 0., 1., 0., 2., 0., 0., 1., 0., 0., 2., 3., 1., 0., 2., 2.]),\n",
              " array([0.17464651, 0.36721281, 0.55977911, 0.75234541, 0.9449117 ,\n",
              "        1.137478  , 1.3300443 , 1.5226106 , 1.7151769 , 1.9077432 ,\n",
              "        2.1003095 , 2.2928758 , 2.4854421 , 2.67800839, 2.87057469,\n",
              "        3.06314099, 3.25570729, 3.44827359, 3.64083989, 3.83340619,\n",
              "        4.02597249, 4.21853879, 4.41110509, 4.60367138, 4.79623768,\n",
              "        4.98880398, 5.18137028, 5.37393658, 5.56650288, 5.75906918,\n",
              "        5.95163548, 6.14420178, 6.33676807, 6.52933437, 6.72190067,\n",
              "        6.91446697, 7.10703327, 7.29959957, 7.49216587, 7.68473217,\n",
              "        7.87729847, 8.06986477, 8.26243106, 8.45499736, 8.64756366,\n",
              "        8.84012996, 9.03269626, 9.22526256, 9.41782886, 9.61039516,\n",
              "        9.80296146]),\n",
              " <BarContainer object of 50 artists>)"
            ]
          },
          "execution_count": 69,
          "metadata": {},
          "output_type": "execute_result"
        },
        {
          "data": {
            "image/png": "[encoded data removed]",
            "text/plain": [
              "<Figure size 432x288 with 1 Axes>"
            ]
          },
          "metadata": {
            "needs_background": "light"
          },
          "output_type": "display_data"
        }
      ],
      "source": [
        "plt.hist(random_fake_data, bins=50)"
      ]
    },
    {
      "cell_type": "markdown",
      "id": "4ffa36e5",
      "metadata": {
        "id": "4ffa36e5"
      },
      "source": [
        "So that's neat. Often, scientists are interested in how their data is related to another type of data. Usually the relationships between two kinds of data can be described by a mathematical function. For example, let's take our evenly_spaced_fake_data and pretend that it's a bunch of distance values, like the number of miles I traveled yesterday over time. Let's say that the farther I walked, the thirstier I became. If I started the walk off well-hydrated, maybe my thirst and the distance I walked would be linearly related:"
      ]
    },
    {
      "cell_type": "code",
      "execution_count": null,
      "id": "549ccd73",
      "metadata": {
        "id": "549ccd73"
      },
      "outputs": [],
      "source": [
        "# rename fake data for ease of use\n",
        "miles_walked = evenly_spaced_fake_data\n",
        "\n",
        "# thirst and miles walked is linearly related, so\n",
        "thirst = miles_walked"
      ]
    },
    {
      "cell_type": "code",
      "execution_count": null,
      "id": "07716d12",
      "metadata": {
        "id": "07716d12",
        "outputId": "58e045b6-da68-4892-d23b-1547c952773a"
      },
      "outputs": [
        {
          "data": {
            "text/plain": [
              "[<matplotlib.lines.Line2D at 0x112e610d0>]"
            ]
          },
          "execution_count": 46,
          "metadata": {},
          "output_type": "execute_result"
        },
        {
          "data": {
            "image/png": "[encoded data removed]",
            "text/plain": [
              "<Figure size 432x288 with 1 Axes>"
            ]
          },
          "metadata": {
            "needs_background": "light"
          },
          "output_type": "display_data"
        }
      ],
      "source": [
        "# now let's plot\n",
        "plt.plot(miles_walked, thirst)"
      ]
    },
    {
      "cell_type": "markdown",
      "id": "dea088ce",
      "metadata": {
        "id": "dea088ce"
      },
      "source": [
        "Now let's assume I was dehydrated before I started walking. In that case, my thirst increases exponentially the more I walk. That means we need to relate my thirst and miles walked with an exponential function."
      ]
    },
    {
      "cell_type": "code",
      "execution_count": null,
      "id": "49b42c15",
      "metadata": {
        "id": "49b42c15"
      },
      "outputs": [],
      "source": [
        "thirst = np.exp(miles_walked)"
      ]
    },
    {
      "cell_type": "code",
      "execution_count": null,
      "id": "71774c0a",
      "metadata": {
        "id": "71774c0a",
        "outputId": "b9d59c5a-0c59-4a43-e61e-142b896deebc"
      },
      "outputs": [
        {
          "data": {
            "text/plain": [
              "[<matplotlib.lines.Line2D at 0x112ed2e10>]"
            ]
          },
          "execution_count": 48,
          "metadata": {},
          "output_type": "execute_result"
        },
        {
          "data": {
            "image/png": "[encoded data removed]",
            "text/plain": [
              "<Figure size 432x288 with 1 Axes>"
            ]
          },
          "metadata": {
            "needs_background": "light"
          },
          "output_type": "display_data"
        }
      ],
      "source": [
        "plt.plot(miles_walked, thirst)"
      ]
    },
    {
      "cell_type": "markdown",
      "id": "4d642acf",
      "metadata": {
        "id": "4d642acf"
      },
      "source": [
        "Look at the y (vertical) axes on the two plots we've made. That's a huge difference! But it doesn't really mean anything to a scientist unless we have units on it. *We* know that the x axis is in units of miles, but someone else wouldn't. And what is the unit on the y axis anyway? Thirst isn't a quantifiable value, so it's not very useful to a scientist. Instead of thirst, let's say it's the volume of water I'd like to drink, in units of liters. Let's add axis labels to our plot!"
      ]
    },
    {
      "cell_type": "code",
      "execution_count": null,
      "id": "996f1e91",
      "metadata": {
        "id": "996f1e91",
        "outputId": "c02716e6-a6d9-46f7-91fd-488e5e48df7c"
      },
      "outputs": [
        {
          "data": {
            "text/plain": [
              "Text(0, 0.5, \"Volume of water I'd like to drink (liters)\")"
            ]
          },
          "execution_count": 53,
          "metadata": {},
          "output_type": "execute_result"
        },
        {
          "data": {
            "image/png": "[encoded data removed]",
            "text/plain": [
              "<Figure size 432x288 with 1 Axes>"
            ]
          },
          "metadata": {
            "needs_background": "light"
          },
          "output_type": "display_data"
        }
      ],
      "source": [
        "plt.plot(miles_walked, thirst)\n",
        "plt.xlabel(\"Distance walked (miles)\")\n",
        "plt.ylabel(\"Volume of water I'd like to drink (liters)\")"
      ]
    },
    {
      "cell_type": "markdown",
      "id": "bef37c51",
      "metadata": {
        "id": "bef37c51"
      },
      "source": [
        "Okay, now it's time for some math. The above plot is great and all, except actually I don't care about miles and liters and I would much rather have everything in units of centimeters. That means we need to convert miles to centimeters and liters to cm^3. Let's go over unit analysis.\n",
        "\n",
        "To convert from miles to centimeters, we need to know how many centimeters are in a mile. Let's start with how many meters are in a mile. Just google it.\n",
        "\n",
        "Next, we know that there are 100 centimeters in 1 meter. We can convert our data like so:"
      ]
    },
    {
      "cell_type": "code",
      "execution_count": null,
      "id": "f145d4f1",
      "metadata": {
        "id": "f145d4f1"
      },
      "outputs": [],
      "source": [
        "centimeters_walked = miles_walked * (1609.34/1) * (100/1) # there are 1609.34 meters in a mile\n",
        "# and 100 centimeters in a meter"
      ]
    },
    {
      "cell_type": "markdown",
      "id": "35c69380",
      "metadata": {
        "id": "35c69380"
      },
      "source": [
        "Now we need to convert liters to cm^3. We know that 1 liter = 0.001 m^3. Now we need to convert to cm^3. Keep in mind that the conversion 100 cm = 1 m needs to be cubed as well:"
      ]
    },
    {
      "cell_type": "code",
      "execution_count": null,
      "id": "4276dda4",
      "metadata": {
        "id": "4276dda4"
      },
      "outputs": [],
      "source": [
        "thirst_cm = thirst * (0.001/1) * (100/1)**3 # 0.001 m^3 in a liter, 100^3 cm^3 in a cubic meter\n",
        "# notice that to cube a number in python, we use \"**\". Likewise, 2**2 = 4, 2**3 = 8, 2**4 = 64, etc."
      ]
    },
    {
      "cell_type": "markdown",
      "id": "fa0c2b29",
      "metadata": {
        "id": "fa0c2b29"
      },
      "source": [
        "Now we can plot everything in the new units. Don't forget to include axis labels!"
      ]
    },
    {
      "cell_type": "code",
      "execution_count": null,
      "id": "809d6391",
      "metadata": {
        "id": "809d6391",
        "outputId": "53d454a9-a1ab-4634-e879-d252846377ef"
      },
      "outputs": [
        {
          "data": {
            "text/plain": [
              "Text(0, 0.5, \"Volume of water I'd like to drink (cm^3)\")"
            ]
          },
          "execution_count": 59,
          "metadata": {},
          "output_type": "execute_result"
        },
        {
          "data": {
            "image/png": "[encoded data removed]",
            "text/plain": [
              "<Figure size 432x288 with 1 Axes>"
            ]
          },
          "metadata": {
            "needs_background": "light"
          },
          "output_type": "display_data"
        }
      ],
      "source": [
        "plt.plot(centimeters_walked, thirst_cm)\n",
        "plt.xlabel(\"Distance walked (centimeters)\")\n",
        "plt.ylabel(\"Volume of water I'd like to drink (cm^3)\")"
      ]
    },
    {
      "cell_type": "markdown",
      "id": "06fed856",
      "metadata": {
        "id": "06fed856"
      },
      "source": [
        "Notice how the shape is the same but the axes now have different values.\n",
        "\n",
        "Now it's your turn. Make some fake data (hint: you could just make an array of numbers like this: \"fake_data = np.array([0,1,2])\") and define a mathematical function to relate the data to something else. Here is a website with all of the possible numpy mathematical functions: https://numpy.org/doc/stable/reference/routines.math.html\n",
        "Look through that and pick one you want to look at! Here's one last example from me to get you started."
      ]
    },
    {
      "cell_type": "code",
      "execution_count": null,
      "id": "970e41f1",
      "metadata": {
        "id": "970e41f1",
        "outputId": "c7137f57-c7f7-464d-ba71-061795e2ea00"
      },
      "outputs": [
        {
          "data": {
            "text/plain": [
              "<matplotlib.collections.PathCollection at 0x1051eab10>"
            ]
          },
          "execution_count": 61,
          "metadata": {},
          "output_type": "execute_result"
        },
        {
          "data": {
            "image/png": "[encoded data removed]",
            "text/plain": [
              "<Figure size 432x288 with 1 Axes>"
            ]
          },
          "metadata": {
            "needs_background": "light"
          },
          "output_type": "display_data"
        }
      ],
      "source": [
        "# define fake data\n",
        "fake_data = np.array([0,4,6,2,4,9,87,100,50,25,32,67])\n",
        "# define a relationship between our fake data and something else\n",
        "y = np.sqrt(fake_data)\n",
        "# plot y and fake data to visualize their relationship\n",
        "# this time we'll use plt.scatter instead of plt.plot\n",
        "plt.scatter(fake_data,y)"
      ]
    },
    {
      "cell_type": "markdown",
      "id": "a55c1e16",
      "metadata": {
        "id": "a55c1e16"
      },
      "source": [
        "You can also mess around with the way your plot looks with plot markers and colors. Here's an example."
      ]
    },
    {
      "cell_type": "code",
      "execution_count": null,
      "id": "6703da81",
      "metadata": {
        "id": "6703da81",
        "outputId": "e473d020-a9d6-48aa-c60c-b2e864cfadad"
      },
      "outputs": [
        {
          "data": {
            "text/plain": [
              "<matplotlib.collections.PathCollection at 0x113735a90>"
            ]
          },
          "execution_count": 67,
          "metadata": {},
          "output_type": "execute_result"
        },
        {
          "data": {
            "image/png": "[encoded data removed]",
            "text/plain": [
              "<Figure size 432x288 with 1 Axes>"
            ]
          },
          "metadata": {
            "needs_background": "light"
          },
          "output_type": "display_data"
        }
      ],
      "source": [
        "plt.scatter(fake_data, y, marker = \"*\", color = \"darkorchid\", s = 75)\n",
        "# hint: the \"s\" option changes the size of the data points"
      ]
    },
    {
      "cell_type": "markdown",
      "id": "30251b14",
      "metadata": {
        "id": "30251b14"
      },
      "source": [
        "You can find a list of different marker types here -- https://matplotlib.org/stable/api/markers_api.html\n",
        "And color options here -- https://matplotlib.org/stable/gallery/color/named_colors.html\n",
        "\n",
        "Spend some time making your own figure or two with your own fake data!"
      ]
    },
    {
      "cell_type": "code",
      "execution_count": null,
      "id": "041237fc",
      "metadata": {
        "id": "041237fc"
      },
      "outputs": [],
      "source": [
        "# put fake data here\n",
        "\n",
        "# put mathematical relationship here\n",
        "\n",
        "# put plot here"
      ]
    },
    {
      "cell_type": "markdown",
      "id": "5b5ca46a",
      "metadata": {
        "id": "5b5ca46a"
      },
      "source": [
        "Next let's try making functions. We can turn our unit conversion calculations into a function so we can quikcly convert any number from miles to centimeters and liters to cm^3."
      ]
    },
    {
      "cell_type": "code",
      "execution_count": null,
      "id": "0c72c235",
      "metadata": {
        "id": "0c72c235",
        "outputId": "e9f3b7a5-a06a-49bd-9aa4-11b30d51b100"
      },
      "outputs": [
        {
          "name": "stdout",
          "output_type": "stream",
          "text": [
            "1609340.0\n"
          ]
        }
      ],
      "source": [
        "# start by defining the function with the \"def\" command\n",
        "def miles2cm(numberinMiles):\n",
        "    numberinCM = numberinMiles * (1609.34/1) * (100/1)\n",
        "    return numberinCM\n",
        "\n",
        "number_in_cm = miles2cm(10)\n",
        "print(number_in_cm)"
      ]
    },
    {
      "cell_type": "code",
      "execution_count": null,
      "id": "7fa15b92",
      "metadata": {
        "id": "7fa15b92"
      },
      "outputs": [],
      "source": []
    }
  ],
  "metadata": {
    "kernelspec": {
      "display_name": "Python 3",
      "language": "python",
      "name": "python3"
    },
    "language_info": {
      "codemirror_mode": {
        "name": "ipython",
        "version": 3
      },
      "file_extension": ".py",
      "mimetype": "text/x-python",
      "name": "python",
      "nbconvert_exporter": "python",
      "pygments_lexer": "ipython3",
      "version": "3.7.6"
    },
    "colab": {
      "provenance": []
    }
  },
  "nbformat": 4,
  "nbformat_minor": 5
}