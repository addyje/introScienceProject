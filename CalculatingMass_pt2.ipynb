{
  "cells": [
    {
      "cell_type": "markdown",
      "source": [
        "# **Calculating the mass of the Milky Way's black hole a bit more precisely**\n",
        "\n",
        "Alright, we've now successfully calculated the mass of Sgr A*; however, we cut some corners to get there. We're now going to try and do this a tad more precisely. This is typically how science is done - we do a first approximation to see if the general method is reasonable, then we tweak and tweak until it converges on a more precise answer.\n",
        "\n",
        "So today, we'll explore slightly different variations of how to calculate the semi-major axis and period. Let's start with the semi-major axis 🤠"
      ],
      "metadata": {
        "id": "UubZUrkqVfAb"
      },
      "id": "UubZUrkqVfAb"
    },
    {
      "cell_type": "markdown",
      "id": "8058d343",
      "metadata": {
        "id": "8058d343"
      },
      "source": [
        " # 🌈**Linear Regression & Conic Sections**🌈\n",
        "\n",
        " Recall that our previous method for finding the semi-major axis of S0-2's orbit was basically fancy eyeballing. Now let's try even fancier eyeballing.\n",
        "We're going to try fitting to the data with a method known as \"Least Squares Regression\". This is essentially what you were just trying to do by eye but more precise -- **the method calculates the exact placement of the ellipse such that the distance between the curve to each individual point is minimized for all points.** Here's an example. (whiteboard)\n",
        "\n",
        "![alt text](https://www.reneshbedre.com/assets/posts/reg/reg_front.svg)\n",
        "\n",
        "\n",
        "To be able to fit to the shape of an ellipse using linear regression, we can use a different equation which describes the shape of the ellipse. The formula I previously showed you is usually what people mean when they say \"general form of an ellipse\".\n",
        "\n",
        "The equation I am about to show you is the general equation for any *conic section*. A conic section can either be a circle, a parabola, a hyperbola, or an ellipse, depending on the constants used in the equation. All orbits can be described as either hyperbolic, parabolic, elliptical, or circular. **Again: these are all conic sections!**\n",
        "\n",
        "![alt text](https://www.astronomy.ohio-state.edu/thompson.1847/1101/OrbitFamilies.gif)\n",
        "\n",
        "# The general equation for any conic section is:\n",
        "\n",
        "$$Ax^2 + Bxy + Cy^2 + Dx + Ey + F = 0$$\n",
        "\n",
        "# There is one piece of information that we already know for sure because we are working with an ellipse. What do you think that piece is?\n",
        ".\n",
        ".\n",
        ".\n",
        ".\n",
        ".\n",
        ".\n"
      ]
    },
    {
      "cell_type": "code",
      "execution_count": null,
      "id": "3bb3d63d",
      "metadata": {
        "id": "3bb3d63d",
        "outputId": "66c307aa-2309-45a9-fc54-4336317aa69b"
      },
      "outputs": [
        {
          "name": "stderr",
          "output_type": "stream",
          "text": [
            "/usr/local/lib/python3.7/site-packages/ipykernel_launcher.py:17: FutureWarning: `rcond` parameter will change to the default of machine precision times ``max(M, N)`` where M and N are the input matrix dimensions.\n",
            "To use the future default and silence this warning we advise to pass `rcond=None`, to keep using the old, explicitly pass `rcond=-1`.\n"
          ]
        },
        {
          "name": "stdout",
          "output_type": "stream",
          "text": [
            "[ 0.00050266  0.0001326   0.00163306 -0.08321422  0.02897452]\n"
          ]
        },
        {
          "data": {
            "image/png": "[encoded data removed]",
            "text/plain": [
              "<Figure size 432x288 with 1 Axes>"
            ]
          },
          "metadata": {
            "needs_background": "light"
          },
          "output_type": "display_data"
        }
      ],
      "source": [
        "import numpy as np\n",
        "import matplotlib.pyplot as plt\n",
        "import pandas as pd\n",
        "\n",
        "# Extract x coords and y coords of the ellipse as column vectors\n",
        "# need to make our x_mas and y_mas data into column vectors.\n",
        "# For example [[1, 2, 3]] as a column vector is [[1], [2], [3]].\n",
        "# calculate the center of the ellipse by subtracting the largest x value from the smallest x value\n",
        "\n",
        "x_mas_arr = np.array(x_mas)\n",
        "y_mas_arr = np.array(y_mas)\n",
        "\n",
        "X = (np.array([x_mas])).T\n",
        "Y = (np.array([y_mas])).T\n",
        "\n",
        "# Formulate and solve the least squares problem ||Ax - b ||^2\n",
        "A = np.hstack([X**2, X * Y, Y**2, X, Y])\n",
        "b = np.ones(len(X))\n",
        "x = np.linalg.lstsq(A, b)[0].squeeze()\n",
        "\n",
        "# Print the equation of the ellipse in standard form\n",
        "print(x)\n",
        "\n",
        "# Plot the noisy data\n",
        "plt.errorbar(X, Y, yerr = y_error_mas, xerr= x_error_mas,label='Data Points', ls = 'none', marker=\"o\")\n",
        "\n",
        "# Plot the original ellipse from which the data was generated\n",
        "#phi = np.linspace(0, 2*np.pi, 1000).reshape((1000,1))\n",
        "#c = np.hstack([np.cos(phi), np.sin(phi)])\n",
        "#ground_truth_ellipse = c.dot(B)\n",
        "#plt.plot(ground_truth_ellipse[:,0], ground_truth_ellipse[:,1], 'k--', label='Generating Ellipse')\n",
        "\n",
        "# Plot the least squares ellipse\n",
        "\n",
        "x_coord = np.linspace(-200,200,300)\n",
        "y_coord = np.linspace(-80,80,300)\n",
        "X_coord, Y_coord = np.meshgrid(x_coord, y_coord)\n",
        "Z_coord = x[0] * X_coord ** 2 + x[1] * X_coord * Y_coord + x[2] * Y_coord**2 + x[3] * X_coord + x[4] * Y_coord\n",
        "plt.contour(X_coord, Y_coord, Z_coord, levels=[1], colors=('r'), linewidths=2)\n",
        "\n",
        "plt.legend()\n",
        "plt.xlabel('X')\n",
        "plt.ylabel('Y')\n",
        "plt.xlim([-25,190])\n",
        "plt.show()"
      ]
    },
    {
      "cell_type": "markdown",
      "id": "00a9fee2",
      "metadata": {
        "id": "00a9fee2"
      },
      "source": [
        "If we did everything else right, this should be looking pretty good! Now, at long last...we still need to calculate the semi-major axis. Unlike for that first equation of an ellipse I showed you guys, the semi-major axis isn't actually given by any one coefficient from the conic sections equation. I dug up the following formula to calculate the semi-major axis:\n",
        "\n",
        "$$ a = \\frac{\\sqrt{2{\\frac{AE^2 - BDE + CD^2}{4AC-B^2}} - F}}{\\sqrt{A+C+\\sqrt{(A-C^2 + B^2)}}} $$\n",
        "\n",
        "Try making a function that describes this formula so that we can calculate the semi-major axis in python."
      ]
    },
    {
      "cell_type": "code",
      "execution_count": null,
      "id": "5f309875",
      "metadata": {
        "id": "5f309875"
      },
      "outputs": [],
      "source": [
        "# now solve for the semi-major axis\n",
        "def semi_major_axis(A,B,C,D,E,F):\n",
        "    numerator = 2 * (((A*E**2 - B*D*E + C*D**2)/(4*A*C - B**2)) - F)\n",
        "    denominator = A + C - np.sqrt((A-C)**2 + B**2)\n",
        "    return np.sqrt(numerator/denominator)\n",
        "\n",
        "semi_major_axis = semi_major_axis(0.000503, 0.000133, 0.00163, -0.0832, 0.029, -1)"
      ]
    },
    {
      "cell_type": "code",
      "execution_count": null,
      "id": "3898a314",
      "metadata": {
        "id": "3898a314",
        "outputId": "b0b73714-7ac9-4955-db18-a94afe4de8fa"
      },
      "outputs": [
        {
          "name": "stdout",
          "output_type": "stream",
          "text": [
            "96.90976528425887\n"
          ]
        }
      ],
      "source": [
        "print(semi_major_axis)"
      ]
    },
    {
      "cell_type": "markdown",
      "id": "b1409864",
      "metadata": {
        "id": "b1409864"
      },
      "source": [
        "One last thing on the semi-major axis. Let's create a function that compares the two semi-major axis values that we've calculated. We can use the formula for percent difference to do this:\n",
        "\n",
        "$$\\text{percent difference} = \\frac{|\\text{First value - Second value}|}{|\\text{(First value + second value)}/2|} \\times 100$$\n",
        "\n",
        "Where the \"|\" means take the absolute value. As a reminder |2| = 2 and |-2| = 2. Basically, if the number is negative, make it positive. You can do this in python with numpy: np.abs(-2)  will return 2."
      ]
    },
    {
      "cell_type": "code",
      "execution_count": null,
      "id": "94f67250",
      "metadata": {
        "id": "94f67250"
      },
      "outputs": [],
      "source": [
        "# make another function to calculate the percent difference between the two semi-major axis values we've got\n",
        "\n",
        "# don't forget to print it at the end :)"
      ]
    },
    {
      "cell_type": "markdown",
      "source": [
        "Cool, now we have two values for the semi-major axis as well as the percent difference between them! Does anyone remember an estimate for the semi-major axis from their literature search? If not, let's pause and go look for one. How does it compare to our two values?\n",
        "\n",
        "\n",
        "## .........................\n",
        "\n",
        "\n",
        "# Let's move on to our more precise way of calculating the period and then we can use these values to re-calculate the mass."
      ],
      "metadata": {
        "id": "hpIPWQcDYS-3"
      },
      "id": "hpIPWQcDYS-3"
    },
    {
      "cell_type": "markdown",
      "source": [
        "# **Finding the period of S0-2's orbit around Sgr A***\n",
        "\n",
        "Recall that we originally estimated the period by saying *shrug* close enough and subtracting the latest time from the earliest time, even though they did not technically complete the orbit.\n",
        "\n",
        "Let's do some 🌈physics🌈 🤠✨🕺 (whiteboard)"
      ],
      "metadata": {
        "id": "vZkkW5psYvgD"
      },
      "id": "vZkkW5psYvgD"
    },
    {
      "cell_type": "code",
      "execution_count": null,
      "id": "b9c3ac18",
      "metadata": {
        "id": "b9c3ac18",
        "outputId": "a103e618-16ab-403a-d5e0-8f8b8c88b983"
      },
      "outputs": [
        {
          "data": {
            "text/plain": [
              "(-40.0, 0.0)"
            ]
          },
          "execution_count": 236,
          "metadata": {},
          "output_type": "execute_result"
        },
        {
          "data": {
            "image/png": "[encoded data removed]",
            "text/plain": [
              "<Figure size 432x288 with 1 Axes>"
            ]
          },
          "metadata": {
            "needs_background": "light"
          },
          "output_type": "display_data"
        }
      ],
      "source": [
        "# plot data\n",
        "plt.errorbar(X, Y, yerr = y_error_mas, xerr= x_error_mas,label='Data Points', ls = 'none', marker=\"o\")\n",
        "# plot ellipse\n",
        "plt.contour(X_coord, Y_coord, Z_coord, levels=[1], colors=('r'), linewidths=2)\n",
        "# plot earliest and latest dat points, make them look unique\n",
        "selected_x = (x_mas_arr[-6],x_mas_arr[-8])\n",
        "selected_y = (y_mas_arr[-6],y_mas_arr[-8])\n",
        "plt.scatter(selected_x, selected_y,color = 'palevioletred', alpha = 0.5, s = 200)\n",
        "plt.xlim([170,185])\n",
        "plt.ylim([-40,0])"
      ]
    },
    {
      "cell_type": "code",
      "execution_count": null,
      "id": "7aa76860",
      "metadata": {
        "id": "7aa76860",
        "outputId": "25dad645-9630-438a-c9b6-182a3a5d0dae"
      },
      "outputs": [
        {
          "name": "stdout",
          "output_type": "stream",
          "text": [
            "15.86136340287391\n"
          ]
        }
      ],
      "source": [
        "date_yr = np.array(stellar_positions[\"Date (year)\"])\n",
        "dt = date_yr[-6] - date_yr[-8]\n",
        "dx = x_mas_arr[-6] - x_mas_arr[-8]\n",
        "dy = y_mas_arr[-6] - y_mas_arr[-8]\n",
        "\n",
        "velocity = np.sqrt(dx**2 + dy**2)/dt\n",
        "\n",
        "new_dx = x_mas_arr[-1] - x_mas_arr[0]\n",
        "new_dy = y_mas_arr[-1] - y_mas_arr[0]\n",
        "new_dt = np.sqrt(new_dx**2 + new_dy**2)/velocity\n",
        "\n",
        "print(period_est+new_dt)"
      ]
    },
    {
      "cell_type": "markdown",
      "id": "7d159ba4",
      "metadata": {
        "id": "7d159ba4"
      },
      "source": [
        "I think this matches better with known observations of S0-2's period. Did anyone find another period estimate during their literature search? If not, let's pause and do another one to see if we got closer.\n",
        "\n",
        "# ................\n",
        "\n",
        "So now we have two unique values for the period, and two unique values for the semi-major axis.\n",
        "\n",
        "But which values should we use? Well, as a scientist, it's good to explore and understand every possible outcome. So...let's calculate all of the possible masses we can get from these values. It's easy to see that there are four possible masses we can calculate from $a_1$, $a_2$, $T_1$, and $T_2$ from Kepler's Third Law:\n",
        "\n",
        "$$T^2 = \\frac{4\\pi^2}{GM}a^3$$\n",
        "\n",
        "Rearranging and setting everything equal to M, we get:\n",
        "\n",
        "$$M = \\frac{4\\pi^2}{GT^2}a^3$$\n",
        "\n",
        "And so our four possible masses are (notice the subscripts on the semi-major axis, period, and mass):\n",
        "\n",
        "$$M_1 = \\frac{4\\pi^2}{GT_1^2}a_1^3 \\text{,     }\n",
        "M_2 = \\frac{4\\pi^2}{GT_1^2}a_2^3 \\\\\n",
        "M_3 = \\frac{4\\pi^2}{GT_2^2}a_1^3 \\text{,     }\n",
        "M_4 = \\frac{4\\pi^2}{GT_2^2}a_2^3  $$\n",
        "\n",
        "\n",
        "Try calculating these four masses using your function from yesterday."
      ]
    },
    {
      "cell_type": "markdown",
      "id": "67a26df3",
      "metadata": {
        "id": "67a26df3"
      },
      "source": [
        "# .....................................\n",
        "\n",
        "Let's try one more thing. Let's go back to a mass that we found in our literature search and compare our four masses to that.\n",
        "\n",
        "This time, instead of calculating a percent difference, we're going to calculate a percent error, by making the assumption that the literature value is the true mass of Sgr A* (this is not necessarily true, but nonetheless it's a reasonable assumption to make)."
      ]
    },
    {
      "cell_type": "markdown",
      "source": [
        "The percent error formula is defined as,\n",
        "\n",
        "\n",
        "$$\\text{percent error} = \\frac{|\\text{Measured value - true value}|}{|\\text{True value}|} \\times 100$$\n",
        "\n"
      ],
      "metadata": {
        "id": "9SsbYZ1Sah2a"
      },
      "id": "9SsbYZ1Sah2a"
    },
    {
      "cell_type": "markdown",
      "source": [
        "Make a function to calculate percent error. Then, we can put all of our results on a plot of percent error vs black hole mass. We can also add a vertical line to show the \"true\" mass of Sgr A*."
      ],
      "metadata": {
        "id": "JwA7y92ZbMEK"
      },
      "id": "JwA7y92ZbMEK"
    },
    {
      "cell_type": "code",
      "execution_count": null,
      "id": "8e984a1e",
      "metadata": {
        "id": "8e984a1e",
        "outputId": "abfaa72f-5fea-4e27-b978-5a8c49ee1855",
        "colab": {
          "base_uri": "https://localhost:8080/",
          "height": 305
        }
      },
      "outputs": [
        {
          "output_type": "execute_result",
          "data": {
            "text/plain": [
              "(100000, 50000000)"
            ]
          },
          "metadata": {},
          "execution_count": 17
        },
        {
          "output_type": "display_data",
          "data": {
            "text/plain": [
              "<Figure size 432x288 with 1 Axes>"
            ],
            "image/png": "[encoded data removed]"
          },
          "metadata": {
            "needs_background": "light"
          }
        }
      ],
      "source": [
        "import numpy as np\n",
        "import matplotlib.pyplot as plt\n",
        "\n",
        "def calculateMass(period, semi_major_axis):\n",
        "    period_s = period * 3.156*10**7\n",
        "    a_meters = semi_major_axis * (41/1000) * 2.59*10**(13)\n",
        "    G = 6.67*10**(-11)\n",
        "    mas2rads = (1/1000) * (1/3600) * (np.pi/180)\n",
        "    distance_meters = (41 / (1000*mas2rads)) * 2.59*10**(13)\n",
        "    m_sun = 2*10**(30)\n",
        "    mass_kg = 4*np.pi**2 * (1/G) * (1/period_s**2) * a_meters**3\n",
        "    return mass_kg/m_sun\n",
        "\n",
        "\n",
        "m1 = calculateMass(15.292000000000144, 100)\n",
        "m2 = calculateMass(15.292000000000144, 96.90976528425887)\n",
        "m3 = calculateMass(16.14445822475051, 100)\n",
        "m4 = calculateMass(16.14445822475051,96.90976528425887)\n",
        "actual_mass = 4.11*10**6\n",
        "masses = np.array([m1,m2,m3,m4])\n",
        "\n",
        "massnames = np.array([\"m1\",\"m2\",\"m3\",\"m4\"])\n",
        "\n",
        "def percent_diff(actual_mass,mass):\n",
        "    return ((actual_mass - mass) / actual_mass)\n",
        "\n",
        "masses_percent_diff = percent_diff(actual_mass, masses)\n",
        "\n",
        "plt.semilogx(masses,masses_percent_diff, marker=\"o\", ls =\"none\")\n",
        "plt.axvline(x=actual_mass)\n",
        "for i in range(len(massnames)):\n",
        "    plt.annotate(massnames[i], (masses[i],masses_percent_diff[i]))\n",
        "\n",
        "plt.xlabel(\"Calculated black hole mass (M$_\\odot$)\")\n",
        "plt.ylabel(\"Percent difference to 2019 paper\")\n",
        "plt.xlim(10**5,5*10**7)"
      ]
    },
    {
      "cell_type": "markdown",
      "source": [
        "All of our masses have a < 1% difference to the true mass of Sgr A*, which is good! It's also correct \"to an order of magnitude\", which any astronomer loves to see.\n",
        "\n",
        "However, they're all consistently lower than the true mass. Why might that be the case?"
      ],
      "metadata": {
        "id": "mkjgHnh1cMjB"
      },
      "id": "mkjgHnh1cMjB"
    },
    {
      "cell_type": "markdown",
      "source": [
        "![alt text](https://meowconnectioncom.files.wordpress.com/2017/02/296622-bigthumbnail.jpg)\n",
        "\n",
        "![alt text](https://images.fineartamerica.com/images/artworkimages/mediumlarge/2/thinking-cat-douglas-sacha.jpg)"
      ],
      "metadata": {
        "id": "p7r3FiUOgawa"
      },
      "id": "p7r3FiUOgawa"
    }
  ],
  "metadata": {
    "kernelspec": {
      "display_name": "Python 3",
      "language": "python",
      "name": "python3"
    },
    "language_info": {
      "codemirror_mode": {
        "name": "ipython",
        "version": 3
      },
      "file_extension": ".py",
      "mimetype": "text/x-python",
      "name": "python",
      "nbconvert_exporter": "python",
      "pygments_lexer": "ipython3",
      "version": "3.7.6"
    },
    "colab": {
      "provenance": []
    }
  },
  "nbformat": 4,
  "nbformat_minor": 5
}
