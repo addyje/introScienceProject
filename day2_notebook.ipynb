{
  "cells": [
    {
      "cell_type": "markdown",
      "id": "984660a4",
      "metadata": {
        "id": "984660a4"
      },
      "source": [
        "# Now we get to work with real data!\n",
        "\n",
        "But first, let's take a step back and understand what we're trying to do. We want to measure the mass of the black hole at the center of the Milky Way. To do this we are going to need to understand the orbits of stars circling the black hole and some good ol' fashion Newtonian and Keplerian physics.\n",
        "\n",
        "We are going to use data from a paper published in 2002. Here's a nice picture of Sgr A* and the star S0-2 in the infrared regime.\n",
        "![alt text](https://upload.wikimedia.org/wikipedia/commons/b/b4/Eso1622b.jpg)"
      ]
    },
    {
      "cell_type": "markdown",
      "id": "9db54dce",
      "metadata": {
        "id": "9db54dce"
      },
      "source": [
        "First, let's learn how to read in files. Knowing how to read in data and different file types is very important for research. You will often find the data that you want in all kinds of different file types and data structures. In your google drive folder, you will find a csv (\"comma separated values\") file with the data we will need to measure the mass of a black hole. First, just open the file on your computer and take a look at it. Then let's use the python module pandas to load the data in."
      ]
    },
    {
      "cell_type": "code",
      "execution_count": null,
      "id": "02d10cf4",
      "metadata": {
        "id": "02d10cf4"
      },
      "outputs": [],
      "source": [
        "import pandas as pd\n",
        "import matplotlib.pyplot as plt\n",
        "import numpy as np"
      ]
    },
    {
      "cell_type": "markdown",
      "source": [
        "## **NOTE: Save all values that you calculate today!**"
      ],
      "metadata": {
        "id": "MMB_PUhgXuss"
      },
      "id": "MMB_PUhgXuss"
    },
    {
      "cell_type": "code",
      "execution_count": null,
      "id": "8b1e4266",
      "metadata": {
        "id": "8b1e4266"
      },
      "outputs": [],
      "source": [
        "# you will need to first add this to your jupyter notebook files by using file icon on the panel to the left\n",
        "# save the csv to the same directory as the sample_data folder, which is the \"content\" directory\n",
        "stellar_positions = pd.read_csv(\"stellar_positions.csv\")"
      ]
    },
    {
      "cell_type": "code",
      "execution_count": null,
      "id": "48f1edd0",
      "metadata": {
        "scrolled": true,
        "id": "48f1edd0",
        "outputId": "1814c4c6-8a7f-49e2-9a83-54a976797be1"
      },
      "outputs": [
        {
          "name": "stdout",
          "output_type": "stream",
          "text": [
            "    x (mas)  y (mas)  dx (mas)  dy (mas)  Date (year)\n",
            "0     179.0    -28.5       3.4       4.8     1994.314\n",
            "1     172.1    -37.3       4.3       3.8     1995.534\n",
            "2     164.4    -43.4       3.6       3.6     1996.253\n",
            "3     161.5    -45.9       5.3       1.9     1996.427\n",
            "4     130.4    -59.0       2.8       3.4     1997.544\n",
            "5     122.1    -65.3       3.5       4.7     1998.373\n",
            "6     106.0    -67.5       4.1       4.4     1999.465\n",
            "7      57.6    -62.8       3.1       3.1     2000.523\n",
            "8      23.8    -49.3       2.1       3.8     2001.502\n",
            "9      -6.6     -3.1       4.0       4.0     2002.250\n",
            "10     -7.6      6.6       2.7       2.7     2002.335\n",
            "11      0.0     16.3       3.8       3.8     2002.393\n",
            "12      2.1     18.2       3.3       3.3     2002.409\n",
            "13     14.9     27.8      10.4      11.5     2002.488\n",
            "14     20.7     30.8       3.3       3.3     2002.578\n",
            "15     26.9     34.1       3.2       3.2     2002.660\n",
            "16     66.6     41.1       0.4       0.3     2003.214\n",
            "17     75.0     41.4       0.3       0.3     2003.351\n",
            "18     80.5     41.5       0.3       0.3     2003.452\n",
            "19     85.3     40.9       0.3       0.3     2003.550\n",
            "20     91.8     40.6       0.3       0.3     2003.676\n",
            "21     96.6     40.2       0.4       0.4     2003.761\n",
            "22    113.2     37.2       0.9       0.9     2004.240\n",
            "23    117.6     36.1       0.3       0.3     2004.347\n",
            "24    120.4     36.0       0.3       0.3     2004.443\n",
            "25    123.1     35.3       0.3       0.3     2004.513\n",
            "26    127.2     33.6       0.3       0.3     2004.664\n",
            "27    143.0     28.1       0.3       0.3     2005.270\n",
            "28    145.2     27.0       0.3       0.3     2005.336\n",
            "29    146.9     26.3       0.4       0.4     2005.467\n",
            "30    149.4     24.9       0.4       0.4     2005.576\n",
            "31    161.7     17.5       0.6       0.8     2006.324\n",
            "32    175.7      2.8       0.7       0.9     2007.545\n",
            "33    175.2      4.1       0.4       0.4     2007.550\n",
            "34    176.0      2.5       0.5       0.5     2007.686\n",
            "35    179.0     -4.6       0.4       0.4     2008.148\n",
            "36    180.7     -8.1       0.4       0.4     2008.472\n",
            "37    180.3    -10.6       0.3       0.3     2008.601\n",
            "38    181.2    -11.4       0.3       0.3     2008.708\n",
            "39    181.1    -17.3       0.7       0.7     2009.185\n",
            "40    181.2    -18.0       0.3       0.3     2009.273\n",
            "41    181.2    -20.1       0.3       0.3     2009.505\n",
            "42    181.5    -21.2       0.3       0.3     2009.606\n"
          ]
        }
      ],
      "source": [
        "print(stellar_positions)"
      ]
    },
    {
      "cell_type": "markdown",
      "id": "90971790",
      "metadata": {
        "id": "90971790"
      },
      "source": [
        "Here, we can see that the file has five columns: x, y, dx, dy, and Date. The distance units are given in \"milliarcseconds\". Astronomers often use \"arcseconds\" as a unit of measurement; it is technically a measurement of an angle across the sky. I can talk to you guys more about this later, but for now that's all you need to know about it :)\n",
        "\n",
        "This data is for the star S0-2, one of the closest orbiting stars to the black hole at the center of our galaxy.\n",
        "\n",
        "x and y give the two dimensional positions of the star. dx and dy are the errors that we have on these measurements. Error in our measurements have to be accounted for because our instruments are not perfect and this stuff is really far away (if you could travel at the speed of light, it would take you over 25,000 years to get there)!\n",
        "\n",
        "It's good to visualize your data as soon as you get your hands on it. Let's plot the x,y positions of S0-2 along with the errors on the measurement. This will help us better understand our data."
      ]
    },
    {
      "cell_type": "markdown",
      "id": "d053ed76",
      "metadata": {
        "id": "d053ed76"
      },
      "source": [
        "# Finding the semi major axis of S0-2's orbit around Sgr A*"
      ]
    },
    {
      "cell_type": "code",
      "execution_count": null,
      "id": "c43527b3",
      "metadata": {
        "scrolled": true,
        "id": "c43527b3",
        "outputId": "ff04da1e-81e9-4c5b-d7b7-7390509c5e18"
      },
      "outputs": [
        {
          "data": {
            "text/plain": [
              "Text(0, 0.5, 'y (mas)')"
            ]
          },
          "execution_count": 5,
          "metadata": {},
          "output_type": "execute_result"
        },
        {
          "data": {
            "image/png": "[encoded data removed]",
            "text/plain": [
              "<Figure size 432x288 with 1 Axes>"
            ]
          },
          "metadata": {
            "needs_background": "light"
          },
          "output_type": "display_data"
        }
      ],
      "source": [
        "# don't forget to add axis labels!!!!\n",
        "# Some of the errors are smaller than the points being plotted.\n",
        "# We can change the transparency of the dots to see the error bars better.\n",
        "\n",
        "x_mas = stellar_positions[\"x (mas)\"]\n",
        "y_mas = stellar_positions[\"y (mas)\"]\n",
        "x_error_mas = stellar_positions[\"dx (mas)\"]\n",
        "y_error_mas = stellar_positions[\"dy (mas)\"]\n",
        "\n",
        "plt.errorbar(x_mas, y_mas, yerr = y_error_mas, xerr = x_error_mas,marker = 'o', ls ='none', alpha = 0.5)\n",
        "plt.xlabel(\"x (mas)\")\n",
        "plt.ylabel(\"y (mas)\")"
      ]
    },
    {
      "cell_type": "markdown",
      "id": "4607811b",
      "metadata": {
        "id": "4607811b"
      },
      "source": [
        "![alt text](https://i.pinimg.com/236x/c4/0d/7a/c40d7a7060fb74926c257db982b6ddaf--funny-stuff-funny-things.jpg)"
      ]
    },
    {
      "cell_type": "markdown",
      "id": "88ce3f88",
      "metadata": {
        "id": "88ce3f88"
      },
      "source": [
        "It's an ellipse! (Recall yesterday when we discussed Kepler's Laws - the star must be orbiting the black hole in an elliptical orbit!)\n",
        "\n",
        "Now, to find the black hole mass with this data, we need to understand the parameters of this elliptical orbit. Recall Kepler's third law:\n",
        "\n",
        "$$P^2 = \\frac{4\\pi^2}{GM}a^3$$\n",
        "\n",
        "Where P is the period of the orbit, G is the gravitational constant, M is the mass of the central body, and a is the semi-major axis of the orbit.\n",
        "\n",
        "G and $\\pi$ are just constants. The mass, M, is what we're trying to solve for. So we need to determine the period and the semi-major axis of the orbit. Recall that the semi-major and semi-minor axis of an ellipse are parameters describing the shape of an ellipse. We can call the semi-major axis \"a\" and the semi-minor axis \"b\" and write the equation of an ellipse as:\n",
        "\n",
        "$$\\frac{(x - h)^2}{a^2} + \\frac{(y - k)^2}{b^2} = 1$$\n",
        "![alt text](https://qph.fs.quoracdn.net/main-qimg-10ec2c590c5bb73c944faf275e614142)\n",
        "\n",
        "## **We can use a function from matplotlib to plot an ellipse on top of our data. Let's try fitting to it by eye by adjusting the parameters a, b, h, and k. Let's try with some trial and error.**"
      ]
    },
    {
      "cell_type": "code",
      "execution_count": null,
      "id": "7d1bced5",
      "metadata": {
        "id": "7d1bced5"
      },
      "outputs": [],
      "source": [
        "from matplotlib.patches import Ellipse"
      ]
    },
    {
      "cell_type": "markdown",
      "id": "e6880565",
      "metadata": {
        "id": "e6880565"
      },
      "source": [
        "Here comes the trial and error part. Let's mess around with the semi major axis, semi minor axis, and the position of the center of the ellipse until we get a good fit to our data."
      ]
    },
    {
      "cell_type": "code",
      "execution_count": null,
      "id": "fe272792",
      "metadata": {
        "id": "fe272792",
        "outputId": "f49935d0-9d94-496c-c49c-c97b302829b3"
      },
      "outputs": [
        {
          "data": {
            "text/plain": [
              "<Figure size 432x288 with 0 Axes>"
            ]
          },
          "metadata": {},
          "output_type": "display_data"
        },
        {
          "data": {
            "image/png": "[encoded data removed]",
            "text/plain": [
              "<Figure size 1080x720 with 1 Axes>"
            ]
          },
          "metadata": {
            "needs_background": "light"
          },
          "output_type": "display_data"
        }
      ],
      "source": [
        "# don't forget to add axes labels to your plot! and a title! include units!!\n",
        "plt.figure()\n",
        "plt.figure(figsize=(15,10))\n",
        "ax = plt.gca()\n",
        "plt.errorbar(x_mas, y_mas, yerr = y_error_mas ,xerr = x_error_mas, marker = \"o\", ls = 'none', alpha = 0.5)\n",
        "# add values where I've put \"**\"\n",
        "ellipse_curve = Ellipse(xy=(80,-15),width = 200, height = 110, fc = 'none', edgecolor = 'r')\n",
        "ax.add_patch(ellipse_curve)\n",
        "plt.xlabel(\"x (mas)\")\n",
        "plt.ylabel(\"y (mas)\")"
      ]
    },
    {
      "cell_type": "markdown",
      "id": "21cc2a7d",
      "metadata": {
        "id": "21cc2a7d"
      },
      "source": [
        "# What values do you get for the semi-major axis?\n",
        "\n",
        ".\n",
        ".\n",
        ".\n",
        ".\n",
        ".\n",
        ".\n",
        ".\n",
        ".\n",
        ".\n",
        "\n",
        "# Compare with the other students. Are they different?\n",
        ".\n",
        ".\n",
        ".\n",
        ".\n",
        ".\n",
        ".\n",
        ".\n",
        ".\n",
        ".\n",
        ".\n",
        "\n",
        "# Why are your answers different?\n",
        ".\n",
        ".\n",
        ".\n",
        ".\n",
        ".\n",
        ".\n",
        ".\n",
        ".\n",
        ".\n",
        ".\n",
        "\n",
        "\n",
        "\n",
        "\n",
        "## There is a more pecise way to do this. But we will get to that later in the week. For now, let's move on to calculating the period."
      ]
    },
    {
      "cell_type": "markdown",
      "id": "bfc51daf",
      "metadata": {
        "id": "bfc51daf"
      },
      "source": [
        "# Finding the period of S0-2's orbit around Sgr A*"
      ]
    },
    {
      "cell_type": "markdown",
      "id": "b7b8cf2d",
      "metadata": {
        "id": "b7b8cf2d"
      },
      "source": [
        "Recall that the period is the amount of time it takes for an object to complete a single orbit around another object. So, we should find the position of the earliest observation and position of the latest observation taken on our plot. Let's highlight these positions using matplotlib!"
      ]
    },
    {
      "cell_type": "code",
      "execution_count": null,
      "id": "d2bbff57",
      "metadata": {
        "id": "d2bbff57",
        "outputId": "e0f16a79-c206-46b6-b91b-e55f8b4611a1"
      },
      "outputs": [
        {
          "name": "stdout",
          "output_type": "stream",
          "text": [
            "    x (mas)  y (mas)  dx (mas)  dy (mas)  Date (year)\n",
            "0     179.0    -28.5       3.4       4.8     1994.314\n",
            "1     172.1    -37.3       4.3       3.8     1995.534\n",
            "2     164.4    -43.4       3.6       3.6     1996.253\n",
            "3     161.5    -45.9       5.3       1.9     1996.427\n",
            "4     130.4    -59.0       2.8       3.4     1997.544\n",
            "5     122.1    -65.3       3.5       4.7     1998.373\n",
            "6     106.0    -67.5       4.1       4.4     1999.465\n",
            "7      57.6    -62.8       3.1       3.1     2000.523\n",
            "8      23.8    -49.3       2.1       3.8     2001.502\n",
            "9      -6.6     -3.1       4.0       4.0     2002.250\n",
            "10     -7.6      6.6       2.7       2.7     2002.335\n",
            "11      0.0     16.3       3.8       3.8     2002.393\n",
            "12      2.1     18.2       3.3       3.3     2002.409\n",
            "13     14.9     27.8      10.4      11.5     2002.488\n",
            "14     20.7     30.8       3.3       3.3     2002.578\n",
            "15     26.9     34.1       3.2       3.2     2002.660\n",
            "16     66.6     41.1       0.4       0.3     2003.214\n",
            "17     75.0     41.4       0.3       0.3     2003.351\n",
            "18     80.5     41.5       0.3       0.3     2003.452\n",
            "19     85.3     40.9       0.3       0.3     2003.550\n",
            "20     91.8     40.6       0.3       0.3     2003.676\n",
            "21     96.6     40.2       0.4       0.4     2003.761\n",
            "22    113.2     37.2       0.9       0.9     2004.240\n",
            "23    117.6     36.1       0.3       0.3     2004.347\n",
            "24    120.4     36.0       0.3       0.3     2004.443\n",
            "25    123.1     35.3       0.3       0.3     2004.513\n",
            "26    127.2     33.6       0.3       0.3     2004.664\n",
            "27    143.0     28.1       0.3       0.3     2005.270\n",
            "28    145.2     27.0       0.3       0.3     2005.336\n",
            "29    146.9     26.3       0.4       0.4     2005.467\n",
            "30    149.4     24.9       0.4       0.4     2005.576\n",
            "31    161.7     17.5       0.6       0.8     2006.324\n",
            "32    175.7      2.8       0.7       0.9     2007.545\n",
            "33    175.2      4.1       0.4       0.4     2007.550\n",
            "34    176.0      2.5       0.5       0.5     2007.686\n",
            "35    179.0     -4.6       0.4       0.4     2008.148\n",
            "36    180.7     -8.1       0.4       0.4     2008.472\n",
            "37    180.3    -10.6       0.3       0.3     2008.601\n",
            "38    181.2    -11.4       0.3       0.3     2008.708\n",
            "39    181.1    -17.3       0.7       0.7     2009.185\n",
            "40    181.2    -18.0       0.3       0.3     2009.273\n",
            "41    181.2    -20.1       0.3       0.3     2009.505\n",
            "42    181.5    -21.2       0.3       0.3     2009.606\n"
          ]
        }
      ],
      "source": [
        "\"\"\"\"\n",
        "We can create two new arrays with subset of our original x,y positions.\n",
        "That way, we can plot them on top of the other points and change their color, make them larger, etc.\n",
        "Let's look at our data again.\n",
        "\"\"\"\"\"\n",
        "\n",
        "print(stellar_positions)"
      ]
    },
    {
      "cell_type": "markdown",
      "id": "c3b6a175",
      "metadata": {
        "id": "c3b6a175"
      },
      "source": [
        "Okay, so we have x,y positions, their errors, and dates. If our data makes a full ellipse then we can get the period from this (explain with whiteboard).\n",
        "\n",
        "Let's check to see if our data makes a full period by plotting the earliest taken data and the latest taken data. We can plot it on top of the other points and ellipse we just fit."
      ]
    },
    {
      "cell_type": "code",
      "execution_count": null,
      "id": "09e7254a",
      "metadata": {
        "id": "09e7254a",
        "outputId": "10e9d559-f3bb-40b7-e649-7ccf2745bd8a"
      },
      "outputs": [
        {
          "data": {
            "text/plain": [
              "(-25.0, 190.0)"
            ]
          },
          "execution_count": 175,
          "metadata": {},
          "output_type": "execute_result"
        },
        {
          "data": {
            "image/png": "[encoded data removed]",
            "text/plain": [
              "<Figure size 432x288 with 1 Axes>"
            ]
          },
          "metadata": {
            "needs_background": "light"
          },
          "output_type": "display_data"
        }
      ],
      "source": [
        "# plot data\n",
        "plt.errorbar(X, Y, yerr = y_error_mas, xerr= x_error_mas,label='Data Points', ls = 'none', marker=\"o\")\n",
        "# plot ellipse\n",
        "plt.contour(X_coord, Y_coord, Z_coord, levels=[1], colors=('r'), linewidths=2)\n",
        "# plot earliest and latest dat points, make them look unique\n",
        "selected_x = (x_mas_arr[0],x_mas_arr[-1])\n",
        "selected_y = (y_mas_arr[0],y_mas_arr[-1])\n",
        "plt.scatter(selected_x, selected_y,color = 'palevioletred', alpha = 0.5, s = 200)\n",
        "plt.xlim([-25,190])"
      ]
    },
    {
      "cell_type": "markdown",
      "id": "c2ae93f0",
      "metadata": {
        "id": "c2ae93f0"
      },
      "source": [
        "They seem pretty close...let's zoom in to the figure by setting new x and y axis limits to see just how close they really are."
      ]
    },
    {
      "cell_type": "code",
      "execution_count": null,
      "id": "dc3cf8b5",
      "metadata": {
        "id": "dc3cf8b5",
        "outputId": "cb434419-6f79-477c-c2b0-36dfb1e5171e"
      },
      "outputs": [
        {
          "data": {
            "text/plain": [
              "(-40.0, 0.0)"
            ]
          },
          "execution_count": 178,
          "metadata": {},
          "output_type": "execute_result"
        },
        {
          "data": {
            "image/png": "[encoded data removed]",
            "text/plain": [
              "<Figure size 432x288 with 1 Axes>"
            ]
          },
          "metadata": {
            "needs_background": "light"
          },
          "output_type": "display_data"
        }
      ],
      "source": [
        "# plot data\n",
        "plt.errorbar(X, Y, yerr = y_error_mas, xerr= x_error_mas,label='Data Points', ls = 'none', marker=\"o\")\n",
        "# plot ellipse\n",
        "plt.contour(X_coord, Y_coord, Z_coord, levels=[1], colors=('r'), linewidths=2)\n",
        "# plot earliest and latest dat points, make them look unique\n",
        "selected_x = (x_mas_arr[0],x_mas_arr[-1])\n",
        "selected_y = (y_mas_arr[0],y_mas_arr[-1])\n",
        "plt.scatter(selected_x, selected_y,color = 'palevioletred', alpha = 0.5, s = 200)\n",
        "plt.xlim([170,185])\n",
        "plt.ylim([-40,0])"
      ]
    },
    {
      "cell_type": "markdown",
      "id": "57e2b0bf",
      "metadata": {
        "id": "57e2b0bf"
      },
      "source": [
        "Close but not quite touching each other...so we cannot calculate a complete orbital period with just these two points. We can get pretty close though. Let's estimate the period now (whiteboard)."
      ]
    },
    {
      "cell_type": "code",
      "execution_count": null,
      "id": "f6124ab0",
      "metadata": {
        "id": "f6124ab0",
        "outputId": "ed350de0-734b-4883-c5b1-b645aed567bf"
      },
      "outputs": [
        {
          "name": "stdout",
          "output_type": "stream",
          "text": [
            "15.292000000000144\n"
          ]
        }
      ],
      "source": [
        "date_yr = np.array(stellar_positions[\"Date (year)\"])\n",
        "period_est = date_yr[-1] - date_yr[0]\n",
        "print(period_est)"
      ]
    },
    {
      "cell_type": "markdown",
      "id": "aed695c2",
      "metadata": {
        "id": "aed695c2"
      },
      "source": [
        "Not bad...although I happen to know that the period is actually closer to 16 years. So need a more precise way of calculating the period. Again, this is something we'll do later this week."
      ]
    },
    {
      "cell_type": "markdown",
      "source": [
        "# **Calculating the mass of the Milky Way's black hole**"
      ],
      "metadata": {
        "id": "22KgJLnmSuRn"
      },
      "id": "22KgJLnmSuRn"
    },
    {
      "cell_type": "markdown",
      "source": [
        "Recall the calculations we did on Monday. Now, we're going to do the same thing to calculate the mass, but this time we're going to use python instead of a pen & paper!"
      ],
      "metadata": {
        "id": "nN8hreldTBuM"
      },
      "id": "nN8hreldTBuM"
    },
    {
      "cell_type": "markdown",
      "source": [
        "Recall Kepler's Third Law:\n",
        "\n",
        "$$T^2 = \\frac{4\\pi^2}{GM}a^3$$\n",
        "\n",
        "Rearranging and setting everything equal to M, we get:\n",
        "\n",
        "$$M = \\frac{4\\pi^2}{GT^2}a^3$$\n",
        "\n",
        "So, this is the function we need to create in python so that we can calculate the mass. Give it a try below!"
      ],
      "metadata": {
        "id": "28yx6SV3TUMr"
      },
      "id": "28yx6SV3TUMr"
    },
    {
      "cell_type": "markdown",
      "source": [
        "There's something we need to be very careful about when writing this function. Remember in our intro to python notebook when we did some unit analysis? Well, here, we have the period in years and the semi-major axis in arcseconds, but ultimately we need the period in seconds, the semi-major axis in meters, and the mass of Sgr A* in solar masses. Tread carefully!"
      ],
      "metadata": {
        "id": "Bm1IaVDpc1vQ"
      },
      "id": "Bm1IaVDpc1vQ"
    },
    {
      "cell_type": "code",
      "execution_count": null,
      "id": "e556c91d",
      "metadata": {
        "id": "e556c91d"
      },
      "outputs": [],
      "source": [
        "def calculateMass(period, semi_major_axis):\n",
        "    period_s = period * 3.156*10**7\n",
        "    a_meters = semi_major_axis * (41/1000) * 2.59*10**(13)\n",
        "    G = 6.67*10**(-11)\n",
        "    mas2rads = (1/1000) * (1/3600) * (np.pi/180)\n",
        "    distance_meters = (41 / (1000*mas2rads)) * 2.59*10**(13)\n",
        "    m_sun = 2*10**(30)\n",
        "    mass_kg = 4*np.pi**2 * (1/G) * (1/period_s**2) * a_meters**3\n",
        "    return mass_kg/m_sun\n",
        ""
      ]
    },
    {
      "cell_type": "code",
      "source": [
        "mass = calculateMass(15.292000000000144,100)"
      ],
      "metadata": {
        "colab": {
          "base_uri": "https://localhost:8080/"
        },
        "id": "0eQNKaneTd2v",
        "outputId": "870ac4c9-810e-4c83-a477-22612e78a429"
      },
      "id": "0eQNKaneTd2v",
      "execution_count": null,
      "outputs": [
        {
          "output_type": "stream",
          "name": "stdout",
          "text": [
            "1521430.7925038368\n"
          ]
        }
      ]
    },
    {
      "cell_type": "markdown",
      "source": [
        "## Great, you've now completed your first (pythonic) calculation of Sgr A*! How does it compare to measurements made by other scientists? Try and find some results in the literature. You can use Google or maybe even https://ui.adsabs.harvard.edu/ if you want to feel extra fancy.\n",
        "\n",
        "# ...........................\n",
        "# ...........................\n",
        "Do your results differ from what you've been able to find? Why or why not? Discuss!"
      ],
      "metadata": {
        "id": "GkimqVJ4UKdJ"
      },
      "id": "GkimqVJ4UKdJ"
    }
  ],
  "metadata": {
    "kernelspec": {
      "display_name": "Python 3",
      "language": "python",
      "name": "python3"
    },
    "language_info": {
      "codemirror_mode": {
        "name": "ipython",
        "version": 3
      },
      "file_extension": ".py",
      "mimetype": "text/x-python",
      "name": "python",
      "nbconvert_exporter": "python",
      "pygments_lexer": "ipython3",
      "version": "3.7.6"
    },
    "colab": {
      "provenance": []
    }
  },
  "nbformat": 4,
  "nbformat_minor": 5
}